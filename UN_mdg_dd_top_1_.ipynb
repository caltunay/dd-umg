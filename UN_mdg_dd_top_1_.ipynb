{
  "nbformat": 4,
  "nbformat_minor": 0,
  "metadata": {
    "colab": {
      "name": "UN mdg - dd - top 1%.ipynb",
      "provenance": [],
      "collapsed_sections": [],
      "include_colab_link": true
    },
    "kernelspec": {
      "name": "python3",
      "display_name": "Python 3"
    },
    "accelerator": "GPU"
  },
  "cells": [
    {
      "cell_type": "markdown",
      "metadata": {
        "id": "view-in-github",
        "colab_type": "text"
      },
      "source": [
        "<a href=\"https://colab.research.google.com/github/caltunay/dd-umg/blob/master/UN_mdg_dd_top_1_.ipynb\" target=\"_parent\"><img src=\"https://colab.research.google.com/assets/colab-badge.svg\" alt=\"Open In Colab\"/></a>"
      ]
    },
    {
      "cell_type": "code",
      "metadata": {
        "id": "aJCBjsbmu4Ni",
        "colab_type": "code",
        "outputId": "726b3725-55e7-4252-b7eb-8c17d5a9be79",
        "colab": {
          "base_uri": "https://localhost:8080/",
          "height": 125
        }
      },
      "source": [
        "from google.colab import drive\n",
        "drive.mount('/content/drive')"
      ],
      "execution_count": 0,
      "outputs": [
        {
          "output_type": "stream",
          "text": [
            "Go to this URL in a browser: https://accounts.google.com/o/oauth2/auth?client_id=947318989803-6bn6qk8qdgf4n4g3pfee6491hc0brc4i.apps.googleusercontent.com&redirect_uri=urn%3Aietf%3Awg%3Aoauth%3A2.0%3Aoob&scope=email%20https%3A%2F%2Fwww.googleapis.com%2Fauth%2Fdocs.test%20https%3A%2F%2Fwww.googleapis.com%2Fauth%2Fdrive%20https%3A%2F%2Fwww.googleapis.com%2Fauth%2Fdrive.photos.readonly%20https%3A%2F%2Fwww.googleapis.com%2Fauth%2Fpeopleapi.readonly&response_type=code\n",
            "\n",
            "Enter your authorization code:\n",
            "··········\n",
            "Mounted at /content/drive\n"
          ],
          "name": "stdout"
        }
      ]
    },
    {
      "cell_type": "code",
      "metadata": {
        "id": "7NrmCXSJuoNS",
        "colab_type": "code",
        "colab": {}
      },
      "source": [
        "import pandas as pd\n",
        "import numpy as np"
      ],
      "execution_count": 0,
      "outputs": []
    },
    {
      "cell_type": "code",
      "metadata": {
        "id": "0-4vjEbhvCmk",
        "colab_type": "code",
        "colab": {}
      },
      "source": [
        "df = pd.read_csv('/content/drive/My Drive/Colab Notebooks/DrivenData - Competition - UN Millennium Goals/data/TrainingSet.csv').drop(labels = 'Unnamed: 0', axis = 1)"
      ],
      "execution_count": 0,
      "outputs": []
    },
    {
      "cell_type": "code",
      "metadata": {
        "id": "qLlFcygfvKMs",
        "colab_type": "code",
        "outputId": "63ebd4fe-95b9-4c50-f51d-98b5c9173d39",
        "colab": {
          "base_uri": "https://localhost:8080/",
          "height": 212
        }
      },
      "source": [
        "df.columns"
      ],
      "execution_count": 0,
      "outputs": [
        {
          "output_type": "execute_result",
          "data": {
            "text/plain": [
              "Index(['1972 [YR1972]', '1973 [YR1973]', '1974 [YR1974]', '1975 [YR1975]',\n",
              "       '1976 [YR1976]', '1977 [YR1977]', '1978 [YR1978]', '1979 [YR1979]',\n",
              "       '1980 [YR1980]', '1981 [YR1981]', '1982 [YR1982]', '1983 [YR1983]',\n",
              "       '1984 [YR1984]', '1985 [YR1985]', '1986 [YR1986]', '1987 [YR1987]',\n",
              "       '1988 [YR1988]', '1989 [YR1989]', '1990 [YR1990]', '1991 [YR1991]',\n",
              "       '1992 [YR1992]', '1993 [YR1993]', '1994 [YR1994]', '1995 [YR1995]',\n",
              "       '1996 [YR1996]', '1997 [YR1997]', '1998 [YR1998]', '1999 [YR1999]',\n",
              "       '2000 [YR2000]', '2001 [YR2001]', '2002 [YR2002]', '2003 [YR2003]',\n",
              "       '2004 [YR2004]', '2005 [YR2005]', '2006 [YR2006]', '2007 [YR2007]',\n",
              "       'Country Name', 'Series Code', 'Series Name'],\n",
              "      dtype='object')"
            ]
          },
          "metadata": {
            "tags": []
          },
          "execution_count": 5
        }
      ]
    },
    {
      "cell_type": "code",
      "metadata": {
        "id": "izQ4aQNrvTX7",
        "colab_type": "code",
        "colab": {}
      },
      "source": [
        "to_melt = ['1972 [YR1972]', '1973 [YR1973]', '1974 [YR1974]', '1975 [YR1975]',\n",
        "       '1976 [YR1976]', '1977 [YR1977]', '1978 [YR1978]', '1979 [YR1979]',\n",
        "       '1980 [YR1980]', '1981 [YR1981]', '1982 [YR1982]', '1983 [YR1983]',\n",
        "       '1984 [YR1984]', '1985 [YR1985]', '1986 [YR1986]', '1987 [YR1987]',\n",
        "       '1988 [YR1988]', '1989 [YR1989]', '1990 [YR1990]', '1991 [YR1991]',\n",
        "       '1992 [YR1992]', '1993 [YR1993]', '1994 [YR1994]', '1995 [YR1995]',\n",
        "       '1996 [YR1996]', '1997 [YR1997]', '1998 [YR1998]', '1999 [YR1999]',\n",
        "       '2000 [YR2000]', '2001 [YR2001]', '2002 [YR2002]', '2003 [YR2003]',\n",
        "       '2004 [YR2004]', '2005 [YR2005]', '2006 [YR2006]', '2007 [YR2007]']"
      ],
      "execution_count": 0,
      "outputs": []
    },
    {
      "cell_type": "code",
      "metadata": {
        "id": "XA8nVDjnvYPk",
        "colab_type": "code",
        "colab": {}
      },
      "source": [
        "df = pd.melt(frame = df, id_vars = ['Country Name', 'Series Code', 'Series Name'], value_vars = to_melt, var_name = 'Year')"
      ],
      "execution_count": 0,
      "outputs": []
    },
    {
      "cell_type": "code",
      "metadata": {
        "id": "GXs4MPArwj6C",
        "colab_type": "code",
        "outputId": "1b52eea3-d213-469c-99ea-42d3623656b8",
        "colab": {
          "base_uri": "https://localhost:8080/",
          "height": 197
        }
      },
      "source": [
        "df.head()"
      ],
      "execution_count": 0,
      "outputs": [
        {
          "output_type": "execute_result",
          "data": {
            "text/html": [
              "<div>\n",
              "<style scoped>\n",
              "    .dataframe tbody tr th:only-of-type {\n",
              "        vertical-align: middle;\n",
              "    }\n",
              "\n",
              "    .dataframe tbody tr th {\n",
              "        vertical-align: top;\n",
              "    }\n",
              "\n",
              "    .dataframe thead th {\n",
              "        text-align: right;\n",
              "    }\n",
              "</style>\n",
              "<table border=\"1\" class=\"dataframe\">\n",
              "  <thead>\n",
              "    <tr style=\"text-align: right;\">\n",
              "      <th></th>\n",
              "      <th>Country Name</th>\n",
              "      <th>Series Code</th>\n",
              "      <th>Series Name</th>\n",
              "      <th>Year</th>\n",
              "      <th>value</th>\n",
              "    </tr>\n",
              "  </thead>\n",
              "  <tbody>\n",
              "    <tr>\n",
              "      <th>0</th>\n",
              "      <td>Afghanistan</td>\n",
              "      <td>allsi.bi_q1</td>\n",
              "      <td>(%) Benefits held by 1st 20% population - All ...</td>\n",
              "      <td>1972 [YR1972]</td>\n",
              "      <td>NaN</td>\n",
              "    </tr>\n",
              "    <tr>\n",
              "      <th>1</th>\n",
              "      <td>Afghanistan</td>\n",
              "      <td>allsp.bi_q1</td>\n",
              "      <td>(%) Benefits held by 1st 20% population - All ...</td>\n",
              "      <td>1972 [YR1972]</td>\n",
              "      <td>NaN</td>\n",
              "    </tr>\n",
              "    <tr>\n",
              "      <th>2</th>\n",
              "      <td>Afghanistan</td>\n",
              "      <td>allsa.bi_q1</td>\n",
              "      <td>(%) Benefits held by 1st 20% population - All ...</td>\n",
              "      <td>1972 [YR1972]</td>\n",
              "      <td>NaN</td>\n",
              "    </tr>\n",
              "    <tr>\n",
              "      <th>3</th>\n",
              "      <td>Afghanistan</td>\n",
              "      <td>allsi.gen_pop</td>\n",
              "      <td>(%) Generosity of All Social Insurance</td>\n",
              "      <td>1972 [YR1972]</td>\n",
              "      <td>NaN</td>\n",
              "    </tr>\n",
              "    <tr>\n",
              "      <th>4</th>\n",
              "      <td>Afghanistan</td>\n",
              "      <td>allsp.gen_pop</td>\n",
              "      <td>(%) Generosity of All Social Protection</td>\n",
              "      <td>1972 [YR1972]</td>\n",
              "      <td>NaN</td>\n",
              "    </tr>\n",
              "  </tbody>\n",
              "</table>\n",
              "</div>"
            ],
            "text/plain": [
              "  Country Name    Series Code  ...           Year value\n",
              "0  Afghanistan    allsi.bi_q1  ...  1972 [YR1972]   NaN\n",
              "1  Afghanistan    allsp.bi_q1  ...  1972 [YR1972]   NaN\n",
              "2  Afghanistan    allsa.bi_q1  ...  1972 [YR1972]   NaN\n",
              "3  Afghanistan  allsi.gen_pop  ...  1972 [YR1972]   NaN\n",
              "4  Afghanistan  allsp.gen_pop  ...  1972 [YR1972]   NaN\n",
              "\n",
              "[5 rows x 5 columns]"
            ]
          },
          "metadata": {
            "tags": []
          },
          "execution_count": 8
        }
      ]
    },
    {
      "cell_type": "code",
      "metadata": {
        "id": "bxSd_IevkxvK",
        "colab_type": "code",
        "colab": {}
      },
      "source": [
        "df['Year']=df['Year'].transform(lambda x : str(x)[:4])"
      ],
      "execution_count": 0,
      "outputs": []
    },
    {
      "cell_type": "code",
      "metadata": {
        "id": "-5VnIwcCwlkC",
        "colab_type": "code",
        "colab": {}
      },
      "source": [
        "df['Year'] = df['Year'].transform(lambda x:str(x)[0:4])"
      ],
      "execution_count": 0,
      "outputs": []
    },
    {
      "cell_type": "code",
      "metadata": {
        "id": "JTqgNMvbwvdL",
        "colab_type": "code",
        "outputId": "1eac0a64-1544-4fbb-8bc7-22430403aee1",
        "colab": {
          "base_uri": "https://localhost:8080/",
          "height": 197
        }
      },
      "source": [
        "df.head()"
      ],
      "execution_count": 0,
      "outputs": [
        {
          "output_type": "execute_result",
          "data": {
            "text/html": [
              "<div>\n",
              "<style scoped>\n",
              "    .dataframe tbody tr th:only-of-type {\n",
              "        vertical-align: middle;\n",
              "    }\n",
              "\n",
              "    .dataframe tbody tr th {\n",
              "        vertical-align: top;\n",
              "    }\n",
              "\n",
              "    .dataframe thead th {\n",
              "        text-align: right;\n",
              "    }\n",
              "</style>\n",
              "<table border=\"1\" class=\"dataframe\">\n",
              "  <thead>\n",
              "    <tr style=\"text-align: right;\">\n",
              "      <th></th>\n",
              "      <th>Country Name</th>\n",
              "      <th>Series Code</th>\n",
              "      <th>Series Name</th>\n",
              "      <th>Year</th>\n",
              "      <th>value</th>\n",
              "    </tr>\n",
              "  </thead>\n",
              "  <tbody>\n",
              "    <tr>\n",
              "      <th>0</th>\n",
              "      <td>Afghanistan</td>\n",
              "      <td>allsi.bi_q1</td>\n",
              "      <td>(%) Benefits held by 1st 20% population - All ...</td>\n",
              "      <td>1972</td>\n",
              "      <td>NaN</td>\n",
              "    </tr>\n",
              "    <tr>\n",
              "      <th>1</th>\n",
              "      <td>Afghanistan</td>\n",
              "      <td>allsp.bi_q1</td>\n",
              "      <td>(%) Benefits held by 1st 20% population - All ...</td>\n",
              "      <td>1972</td>\n",
              "      <td>NaN</td>\n",
              "    </tr>\n",
              "    <tr>\n",
              "      <th>2</th>\n",
              "      <td>Afghanistan</td>\n",
              "      <td>allsa.bi_q1</td>\n",
              "      <td>(%) Benefits held by 1st 20% population - All ...</td>\n",
              "      <td>1972</td>\n",
              "      <td>NaN</td>\n",
              "    </tr>\n",
              "    <tr>\n",
              "      <th>3</th>\n",
              "      <td>Afghanistan</td>\n",
              "      <td>allsi.gen_pop</td>\n",
              "      <td>(%) Generosity of All Social Insurance</td>\n",
              "      <td>1972</td>\n",
              "      <td>NaN</td>\n",
              "    </tr>\n",
              "    <tr>\n",
              "      <th>4</th>\n",
              "      <td>Afghanistan</td>\n",
              "      <td>allsp.gen_pop</td>\n",
              "      <td>(%) Generosity of All Social Protection</td>\n",
              "      <td>1972</td>\n",
              "      <td>NaN</td>\n",
              "    </tr>\n",
              "  </tbody>\n",
              "</table>\n",
              "</div>"
            ],
            "text/plain": [
              "  Country Name    Series Code  ...  Year value\n",
              "0  Afghanistan    allsi.bi_q1  ...  1972   NaN\n",
              "1  Afghanistan    allsp.bi_q1  ...  1972   NaN\n",
              "2  Afghanistan    allsa.bi_q1  ...  1972   NaN\n",
              "3  Afghanistan  allsi.gen_pop  ...  1972   NaN\n",
              "4  Afghanistan  allsp.gen_pop  ...  1972   NaN\n",
              "\n",
              "[5 rows x 5 columns]"
            ]
          },
          "metadata": {
            "tags": []
          },
          "execution_count": 11
        }
      ]
    },
    {
      "cell_type": "code",
      "metadata": {
        "id": "Ky__1A2tk7hw",
        "colab_type": "code",
        "outputId": "91080e85-49c0-4dd2-fee5-8be6f2c11a0e",
        "colab": {
          "base_uri": "https://localhost:8080/",
          "height": 194
        }
      },
      "source": [
        "df.info()"
      ],
      "execution_count": 0,
      "outputs": [
        {
          "output_type": "stream",
          "text": [
            "<class 'pandas.core.frame.DataFrame'>\n",
            "RangeIndex: 7034472 entries, 0 to 7034471\n",
            "Data columns (total 5 columns):\n",
            "Country Name    object\n",
            "Series Code     object\n",
            "Series Name     object\n",
            "Year            object\n",
            "value           float64\n",
            "dtypes: float64(1), object(4)\n",
            "memory usage: 268.3+ MB\n"
          ],
          "name": "stdout"
        }
      ]
    },
    {
      "cell_type": "code",
      "metadata": {
        "id": "4S9oQkTyk-2I",
        "colab_type": "code",
        "colab": {}
      },
      "source": [
        "df['date'] = pd.to_datetime(dict(year = df['Year'], day = 31, month = 12))"
      ],
      "execution_count": 0,
      "outputs": []
    },
    {
      "cell_type": "code",
      "metadata": {
        "id": "z_qVhxRGlSq3",
        "colab_type": "code",
        "outputId": "925d7fc2-bddc-4203-cebc-dfa8294d9cf2",
        "colab": {
          "base_uri": "https://localhost:8080/",
          "height": 212
        }
      },
      "source": [
        "df.info()"
      ],
      "execution_count": 0,
      "outputs": [
        {
          "output_type": "stream",
          "text": [
            "<class 'pandas.core.frame.DataFrame'>\n",
            "RangeIndex: 7034472 entries, 0 to 7034471\n",
            "Data columns (total 6 columns):\n",
            "Country Name    object\n",
            "Series Code     object\n",
            "Series Name     object\n",
            "Year            object\n",
            "value           float64\n",
            "date            datetime64[ns]\n",
            "dtypes: datetime64[ns](1), float64(1), object(4)\n",
            "memory usage: 322.0+ MB\n"
          ],
          "name": "stdout"
        }
      ]
    },
    {
      "cell_type": "code",
      "metadata": {
        "id": "Ixx-aNqI7sPQ",
        "colab_type": "code",
        "outputId": "bd4d61a9-3d78-44a2-d385-9cb54c05095a",
        "colab": {
          "base_uri": "https://localhost:8080/",
          "height": 197
        }
      },
      "source": [
        "df.head()"
      ],
      "execution_count": 0,
      "outputs": [
        {
          "output_type": "execute_result",
          "data": {
            "text/html": [
              "<div>\n",
              "<style scoped>\n",
              "    .dataframe tbody tr th:only-of-type {\n",
              "        vertical-align: middle;\n",
              "    }\n",
              "\n",
              "    .dataframe tbody tr th {\n",
              "        vertical-align: top;\n",
              "    }\n",
              "\n",
              "    .dataframe thead th {\n",
              "        text-align: right;\n",
              "    }\n",
              "</style>\n",
              "<table border=\"1\" class=\"dataframe\">\n",
              "  <thead>\n",
              "    <tr style=\"text-align: right;\">\n",
              "      <th></th>\n",
              "      <th>Country Name</th>\n",
              "      <th>Series Code</th>\n",
              "      <th>Series Name</th>\n",
              "      <th>Year</th>\n",
              "      <th>value</th>\n",
              "      <th>date</th>\n",
              "      <th>id</th>\n",
              "    </tr>\n",
              "  </thead>\n",
              "  <tbody>\n",
              "    <tr>\n",
              "      <th>0</th>\n",
              "      <td>Afghanistan</td>\n",
              "      <td>allsi.bi_q1</td>\n",
              "      <td>(%) Benefits held by 1st 20% population - All ...</td>\n",
              "      <td>1972</td>\n",
              "      <td>NaN</td>\n",
              "      <td>1972-12-31</td>\n",
              "      <td>Afghanistan||allsi.bi_q1</td>\n",
              "    </tr>\n",
              "    <tr>\n",
              "      <th>1</th>\n",
              "      <td>Afghanistan</td>\n",
              "      <td>allsp.bi_q1</td>\n",
              "      <td>(%) Benefits held by 1st 20% population - All ...</td>\n",
              "      <td>1972</td>\n",
              "      <td>NaN</td>\n",
              "      <td>1972-12-31</td>\n",
              "      <td>Afghanistan||allsp.bi_q1</td>\n",
              "    </tr>\n",
              "    <tr>\n",
              "      <th>2</th>\n",
              "      <td>Afghanistan</td>\n",
              "      <td>allsa.bi_q1</td>\n",
              "      <td>(%) Benefits held by 1st 20% population - All ...</td>\n",
              "      <td>1972</td>\n",
              "      <td>NaN</td>\n",
              "      <td>1972-12-31</td>\n",
              "      <td>Afghanistan||allsa.bi_q1</td>\n",
              "    </tr>\n",
              "    <tr>\n",
              "      <th>3</th>\n",
              "      <td>Afghanistan</td>\n",
              "      <td>allsi.gen_pop</td>\n",
              "      <td>(%) Generosity of All Social Insurance</td>\n",
              "      <td>1972</td>\n",
              "      <td>NaN</td>\n",
              "      <td>1972-12-31</td>\n",
              "      <td>Afghanistan||allsi.gen_pop</td>\n",
              "    </tr>\n",
              "    <tr>\n",
              "      <th>4</th>\n",
              "      <td>Afghanistan</td>\n",
              "      <td>allsp.gen_pop</td>\n",
              "      <td>(%) Generosity of All Social Protection</td>\n",
              "      <td>1972</td>\n",
              "      <td>NaN</td>\n",
              "      <td>1972-12-31</td>\n",
              "      <td>Afghanistan||allsp.gen_pop</td>\n",
              "    </tr>\n",
              "  </tbody>\n",
              "</table>\n",
              "</div>"
            ],
            "text/plain": [
              "  Country Name    Series Code  ...       date                          id\n",
              "0  Afghanistan    allsi.bi_q1  ... 1972-12-31    Afghanistan||allsi.bi_q1\n",
              "1  Afghanistan    allsp.bi_q1  ... 1972-12-31    Afghanistan||allsp.bi_q1\n",
              "2  Afghanistan    allsa.bi_q1  ... 1972-12-31    Afghanistan||allsa.bi_q1\n",
              "3  Afghanistan  allsi.gen_pop  ... 1972-12-31  Afghanistan||allsi.gen_pop\n",
              "4  Afghanistan  allsp.gen_pop  ... 1972-12-31  Afghanistan||allsp.gen_pop\n",
              "\n",
              "[5 rows x 7 columns]"
            ]
          },
          "metadata": {
            "tags": []
          },
          "execution_count": 229
        }
      ]
    },
    {
      "cell_type": "code",
      "metadata": {
        "id": "rVOGwQDdnwiW",
        "colab_type": "code",
        "outputId": "5dfa4ab4-6631-4710-851d-6c82dca52c9b",
        "colab": {
          "base_uri": "https://localhost:8080/",
          "height": 336
        }
      },
      "source": [
        "!pip install fbprophet\n",
        "from fbprophet import Prophet"
      ],
      "execution_count": 0,
      "outputs": [
        {
          "output_type": "stream",
          "text": [
            "Requirement already satisfied: fbprophet in /usr/local/lib/python3.6/dist-packages (0.5)\n",
            "Requirement already satisfied: numpy>=1.10.0 in /usr/local/lib/python3.6/dist-packages (from fbprophet) (1.16.5)\n",
            "Requirement already satisfied: setuptools-git>=1.2 in /usr/local/lib/python3.6/dist-packages (from fbprophet) (1.2)\n",
            "Requirement already satisfied: holidays>=0.9.5 in /usr/local/lib/python3.6/dist-packages (from fbprophet) (0.9.11)\n",
            "Requirement already satisfied: pandas>=0.23.4 in /usr/local/lib/python3.6/dist-packages (from fbprophet) (0.24.2)\n",
            "Requirement already satisfied: convertdate>=2.1.2 in /usr/local/lib/python3.6/dist-packages (from fbprophet) (2.1.3)\n",
            "Requirement already satisfied: matplotlib>=2.0.0 in /usr/local/lib/python3.6/dist-packages (from fbprophet) (3.0.3)\n",
            "Requirement already satisfied: lunardate>=0.1.5 in /usr/local/lib/python3.6/dist-packages (from fbprophet) (0.2.0)\n",
            "Requirement already satisfied: pystan>=2.14 in /usr/local/lib/python3.6/dist-packages (from fbprophet) (2.19.0.0)\n",
            "Requirement already satisfied: Cython>=0.22 in /usr/local/lib/python3.6/dist-packages (from fbprophet) (0.29.13)\n",
            "Requirement already satisfied: python-dateutil in /usr/local/lib/python3.6/dist-packages (from holidays>=0.9.5->fbprophet) (2.5.3)\n",
            "Requirement already satisfied: six in /usr/local/lib/python3.6/dist-packages (from holidays>=0.9.5->fbprophet) (1.12.0)\n",
            "Requirement already satisfied: pytz>=2011k in /usr/local/lib/python3.6/dist-packages (from pandas>=0.23.4->fbprophet) (2018.9)\n",
            "Requirement already satisfied: ephem<3.8,>=3.7.5.3 in /usr/local/lib/python3.6/dist-packages (from convertdate>=2.1.2->fbprophet) (3.7.7.0)\n",
            "Requirement already satisfied: cycler>=0.10 in /usr/local/lib/python3.6/dist-packages (from matplotlib>=2.0.0->fbprophet) (0.10.0)\n",
            "Requirement already satisfied: kiwisolver>=1.0.1 in /usr/local/lib/python3.6/dist-packages (from matplotlib>=2.0.0->fbprophet) (1.1.0)\n",
            "Requirement already satisfied: pyparsing!=2.0.4,!=2.1.2,!=2.1.6,>=2.0.1 in /usr/local/lib/python3.6/dist-packages (from matplotlib>=2.0.0->fbprophet) (2.4.2)\n",
            "Requirement already satisfied: setuptools in /usr/local/lib/python3.6/dist-packages (from kiwisolver>=1.0.1->matplotlib>=2.0.0->fbprophet) (41.2.0)\n"
          ],
          "name": "stdout"
        }
      ]
    },
    {
      "cell_type": "code",
      "metadata": {
        "id": "Ih79IFtF07Pb",
        "colab_type": "code",
        "colab": {}
      },
      "source": [
        "import matplotlib.pyplot as plt\n",
        "%matplotlib inline"
      ],
      "execution_count": 0,
      "outputs": []
    },
    {
      "cell_type": "code",
      "metadata": {
        "id": "kt4gnKcUAmnq",
        "colab_type": "code",
        "colab": {}
      },
      "source": [
        "df['id'] = df['Country Name'] + '||' + df['Series Code']"
      ],
      "execution_count": 0,
      "outputs": []
    },
    {
      "cell_type": "code",
      "metadata": {
        "id": "aaSoBbqlB_C7",
        "colab_type": "code",
        "colab": {}
      },
      "source": [
        "ids = df['id'].value_counts().index.tolist()"
      ],
      "execution_count": 0,
      "outputs": []
    },
    {
      "cell_type": "code",
      "metadata": {
        "id": "C3kkiGAaCyqp",
        "colab_type": "code",
        "outputId": "a22729dd-f88b-43a1-8523-fb10cae1914e",
        "colab": {
          "base_uri": "https://localhost:8080/",
          "height": 34
        }
      },
      "source": [
        "df['Year'].max()"
      ],
      "execution_count": 0,
      "outputs": [
        {
          "output_type": "execute_result",
          "data": {
            "text/plain": [
              "'2007'"
            ]
          },
          "metadata": {
            "tags": []
          },
          "execution_count": 188
        }
      ]
    },
    {
      "cell_type": "code",
      "metadata": {
        "id": "dtjGsY8yDEOC",
        "colab_type": "code",
        "colab": {}
      },
      "source": [
        "final = pd.DataFrame(columns = ['ds','yhat','id'])\n",
        "\n",
        "for i in submis_rows:\n",
        "    \n",
        "    # slice for id and arrange for Prophet \n",
        "    temp_df = df[df['id'] == i][['date','value']].reset_index(drop = True).rename(columns = {'date':'ds','value':'y'})\n",
        "    \n",
        "    # ffill if only not null and not last in df\n",
        "    if temp_df['y'].notnull().sum() < 2:\n",
        "        try:\n",
        "            temp_df = temp_df.bfill()\n",
        "        except:\n",
        "            temp_df = temp_df.ffill()\n",
        "    # else prophet will interpolate anyway\n",
        "    \n",
        "    # create prophet model\n",
        "    temp_model = Prophet()\n",
        "    temp_model.fit(temp_df)\n",
        "    \n",
        "    # make prediction and take only yhat\n",
        "    temp_empty_forecast_df = temp_model.make_future_dataframe(periods = 5, freq = 'A')\n",
        "    temp_forecast = temp_model.predict(temp_empty_forecast_df)\n",
        "    \n",
        "    # add column of id\n",
        "    temp_forecast['id'] = i\n",
        "    temp_forecast = temp_forecast[['ds','yhat','id']]\n",
        "\n",
        "    # add to result df \n",
        "    final = pd.concat([final,temp_forecast], axis = 0)\n",
        "    "
      ],
      "execution_count": 0,
      "outputs": []
    },
    {
      "cell_type": "code",
      "metadata": {
        "id": "_E5D76yUetCV",
        "colab_type": "code",
        "colab": {}
      },
      "source": [
        "final.reset_index(drop = True, inplace = True)"
      ],
      "execution_count": 0,
      "outputs": []
    },
    {
      "cell_type": "code",
      "metadata": {
        "id": "luE34OgIT40H",
        "colab_type": "code",
        "colab": {}
      },
      "source": [
        "final.to_csv('final.csv')"
      ],
      "execution_count": 0,
      "outputs": []
    },
    {
      "cell_type": "code",
      "metadata": {
        "id": "QlrJCJ0V3DKz",
        "colab_type": "code",
        "outputId": "00673124-8405-4488-80ee-c2cbf8bc2bc0",
        "colab": {
          "base_uri": "https://localhost:8080/",
          "height": 197
        }
      },
      "source": [
        "final.head()"
      ],
      "execution_count": 0,
      "outputs": [
        {
          "output_type": "execute_result",
          "data": {
            "text/html": [
              "<div>\n",
              "<style scoped>\n",
              "    .dataframe tbody tr th:only-of-type {\n",
              "        vertical-align: middle;\n",
              "    }\n",
              "\n",
              "    .dataframe tbody tr th {\n",
              "        vertical-align: top;\n",
              "    }\n",
              "\n",
              "    .dataframe thead th {\n",
              "        text-align: right;\n",
              "    }\n",
              "</style>\n",
              "<table border=\"1\" class=\"dataframe\">\n",
              "  <thead>\n",
              "    <tr style=\"text-align: right;\">\n",
              "      <th></th>\n",
              "      <th>ds</th>\n",
              "      <th>yhat</th>\n",
              "      <th>id</th>\n",
              "    </tr>\n",
              "  </thead>\n",
              "  <tbody>\n",
              "    <tr>\n",
              "      <th>0</th>\n",
              "      <td>1972-12-31</td>\n",
              "      <td>-0.568345</td>\n",
              "      <td>Afghanistan||7.8</td>\n",
              "    </tr>\n",
              "    <tr>\n",
              "      <th>1</th>\n",
              "      <td>1973-12-31</td>\n",
              "      <td>-0.539743</td>\n",
              "      <td>Afghanistan||7.8</td>\n",
              "    </tr>\n",
              "    <tr>\n",
              "      <th>2</th>\n",
              "      <td>1974-12-31</td>\n",
              "      <td>-0.508853</td>\n",
              "      <td>Afghanistan||7.8</td>\n",
              "    </tr>\n",
              "    <tr>\n",
              "      <th>3</th>\n",
              "      <td>1975-12-31</td>\n",
              "      <td>-0.475679</td>\n",
              "      <td>Afghanistan||7.8</td>\n",
              "    </tr>\n",
              "    <tr>\n",
              "      <th>4</th>\n",
              "      <td>1976-12-31</td>\n",
              "      <td>-0.453777</td>\n",
              "      <td>Afghanistan||7.8</td>\n",
              "    </tr>\n",
              "  </tbody>\n",
              "</table>\n",
              "</div>"
            ],
            "text/plain": [
              "          ds      yhat                id\n",
              "0 1972-12-31 -0.568345  Afghanistan||7.8\n",
              "1 1973-12-31 -0.539743  Afghanistan||7.8\n",
              "2 1974-12-31 -0.508853  Afghanistan||7.8\n",
              "3 1975-12-31 -0.475679  Afghanistan||7.8\n",
              "4 1976-12-31 -0.453777  Afghanistan||7.8"
            ]
          },
          "metadata": {
            "tags": []
          },
          "execution_count": 282
        }
      ]
    },
    {
      "cell_type": "code",
      "metadata": {
        "id": "5S-rN3HrgJaX",
        "colab_type": "code",
        "outputId": "26989da6-9148-4a7f-fc91-ad666a4ecbc6",
        "colab": {
          "base_uri": "https://localhost:8080/",
          "height": 197
        }
      },
      "source": [
        "submis_df = pd.read_csv('/content/drive/My Drive/Colab Notebooks/DrivenData - Competition - UN Millennium Goals/data/SubmissionRows.csv')\n",
        "submis_df.head()"
      ],
      "execution_count": 0,
      "outputs": [
        {
          "output_type": "execute_result",
          "data": {
            "text/html": [
              "<div>\n",
              "<style scoped>\n",
              "    .dataframe tbody tr th:only-of-type {\n",
              "        vertical-align: middle;\n",
              "    }\n",
              "\n",
              "    .dataframe tbody tr th {\n",
              "        vertical-align: top;\n",
              "    }\n",
              "\n",
              "    .dataframe thead th {\n",
              "        text-align: right;\n",
              "    }\n",
              "</style>\n",
              "<table border=\"1\" class=\"dataframe\">\n",
              "  <thead>\n",
              "    <tr style=\"text-align: right;\">\n",
              "      <th></th>\n",
              "      <th>Unnamed: 0</th>\n",
              "      <th>2008 [YR2008]</th>\n",
              "      <th>2012 [YR2012]</th>\n",
              "    </tr>\n",
              "  </thead>\n",
              "  <tbody>\n",
              "    <tr>\n",
              "      <th>0</th>\n",
              "      <td>559</td>\n",
              "      <td>NaN</td>\n",
              "      <td>NaN</td>\n",
              "    </tr>\n",
              "    <tr>\n",
              "      <th>1</th>\n",
              "      <td>618</td>\n",
              "      <td>NaN</td>\n",
              "      <td>NaN</td>\n",
              "    </tr>\n",
              "    <tr>\n",
              "      <th>2</th>\n",
              "      <td>753</td>\n",
              "      <td>NaN</td>\n",
              "      <td>NaN</td>\n",
              "    </tr>\n",
              "    <tr>\n",
              "      <th>3</th>\n",
              "      <td>1030</td>\n",
              "      <td>NaN</td>\n",
              "      <td>NaN</td>\n",
              "    </tr>\n",
              "    <tr>\n",
              "      <th>4</th>\n",
              "      <td>1896</td>\n",
              "      <td>NaN</td>\n",
              "      <td>NaN</td>\n",
              "    </tr>\n",
              "  </tbody>\n",
              "</table>\n",
              "</div>"
            ],
            "text/plain": [
              "   Unnamed: 0  2008 [YR2008]  2012 [YR2012]\n",
              "0         559            NaN            NaN\n",
              "1         618            NaN            NaN\n",
              "2         753            NaN            NaN\n",
              "3        1030            NaN            NaN\n",
              "4        1896            NaN            NaN"
            ]
          },
          "metadata": {
            "tags": []
          },
          "execution_count": 259
        }
      ]
    },
    {
      "cell_type": "code",
      "metadata": {
        "id": "MxwE_j5y4R0P",
        "colab_type": "code",
        "outputId": "97d5fe9e-c769-40db-a99d-fa6ce4878ec6",
        "colab": {
          "base_uri": "https://localhost:8080/",
          "height": 197
        }
      },
      "source": [
        "submis_df2 = pd.read_csv('/content/drive/My Drive/Colab Notebooks/DrivenData - Competition - UN Millennium Goals/data/SubmissionRows.csv')\n",
        "submis_df2.head()"
      ],
      "execution_count": 0,
      "outputs": [
        {
          "output_type": "execute_result",
          "data": {
            "text/html": [
              "<div>\n",
              "<style scoped>\n",
              "    .dataframe tbody tr th:only-of-type {\n",
              "        vertical-align: middle;\n",
              "    }\n",
              "\n",
              "    .dataframe tbody tr th {\n",
              "        vertical-align: top;\n",
              "    }\n",
              "\n",
              "    .dataframe thead th {\n",
              "        text-align: right;\n",
              "    }\n",
              "</style>\n",
              "<table border=\"1\" class=\"dataframe\">\n",
              "  <thead>\n",
              "    <tr style=\"text-align: right;\">\n",
              "      <th></th>\n",
              "      <th>Unnamed: 0</th>\n",
              "      <th>2008 [YR2008]</th>\n",
              "      <th>2012 [YR2012]</th>\n",
              "    </tr>\n",
              "  </thead>\n",
              "  <tbody>\n",
              "    <tr>\n",
              "      <th>0</th>\n",
              "      <td>559</td>\n",
              "      <td>NaN</td>\n",
              "      <td>NaN</td>\n",
              "    </tr>\n",
              "    <tr>\n",
              "      <th>1</th>\n",
              "      <td>618</td>\n",
              "      <td>NaN</td>\n",
              "      <td>NaN</td>\n",
              "    </tr>\n",
              "    <tr>\n",
              "      <th>2</th>\n",
              "      <td>753</td>\n",
              "      <td>NaN</td>\n",
              "      <td>NaN</td>\n",
              "    </tr>\n",
              "    <tr>\n",
              "      <th>3</th>\n",
              "      <td>1030</td>\n",
              "      <td>NaN</td>\n",
              "      <td>NaN</td>\n",
              "    </tr>\n",
              "    <tr>\n",
              "      <th>4</th>\n",
              "      <td>1896</td>\n",
              "      <td>NaN</td>\n",
              "      <td>NaN</td>\n",
              "    </tr>\n",
              "  </tbody>\n",
              "</table>\n",
              "</div>"
            ],
            "text/plain": [
              "   Unnamed: 0  2008 [YR2008]  2012 [YR2012]\n",
              "0         559            NaN            NaN\n",
              "1         618            NaN            NaN\n",
              "2         753            NaN            NaN\n",
              "3        1030            NaN            NaN\n",
              "4        1896            NaN            NaN"
            ]
          },
          "metadata": {
            "tags": []
          },
          "execution_count": 283
        }
      ]
    },
    {
      "cell_type": "code",
      "metadata": {
        "id": "7QFV5ZvDgJfP",
        "colab_type": "code",
        "outputId": "f97a9365-b2e1-48d3-ed63-8ce4f77bcbb0",
        "colab": {
          "base_uri": "https://localhost:8080/",
          "height": 617
        }
      },
      "source": [
        "train = pd.read_csv('/content/drive/My Drive/Colab Notebooks/DrivenData - Competition - UN Millennium Goals/data/TrainingSet.csv')\n",
        "train.head()"
      ],
      "execution_count": 0,
      "outputs": [
        {
          "output_type": "execute_result",
          "data": {
            "text/html": [
              "<div>\n",
              "<style scoped>\n",
              "    .dataframe tbody tr th:only-of-type {\n",
              "        vertical-align: middle;\n",
              "    }\n",
              "\n",
              "    .dataframe tbody tr th {\n",
              "        vertical-align: top;\n",
              "    }\n",
              "\n",
              "    .dataframe thead th {\n",
              "        text-align: right;\n",
              "    }\n",
              "</style>\n",
              "<table border=\"1\" class=\"dataframe\">\n",
              "  <thead>\n",
              "    <tr style=\"text-align: right;\">\n",
              "      <th></th>\n",
              "      <th>Unnamed: 0</th>\n",
              "      <th>1972 [YR1972]</th>\n",
              "      <th>1973 [YR1973]</th>\n",
              "      <th>1974 [YR1974]</th>\n",
              "      <th>1975 [YR1975]</th>\n",
              "      <th>1976 [YR1976]</th>\n",
              "      <th>1977 [YR1977]</th>\n",
              "      <th>1978 [YR1978]</th>\n",
              "      <th>1979 [YR1979]</th>\n",
              "      <th>1980 [YR1980]</th>\n",
              "      <th>1981 [YR1981]</th>\n",
              "      <th>1982 [YR1982]</th>\n",
              "      <th>1983 [YR1983]</th>\n",
              "      <th>1984 [YR1984]</th>\n",
              "      <th>1985 [YR1985]</th>\n",
              "      <th>1986 [YR1986]</th>\n",
              "      <th>1987 [YR1987]</th>\n",
              "      <th>1988 [YR1988]</th>\n",
              "      <th>1989 [YR1989]</th>\n",
              "      <th>1990 [YR1990]</th>\n",
              "      <th>1991 [YR1991]</th>\n",
              "      <th>1992 [YR1992]</th>\n",
              "      <th>1993 [YR1993]</th>\n",
              "      <th>1994 [YR1994]</th>\n",
              "      <th>1995 [YR1995]</th>\n",
              "      <th>1996 [YR1996]</th>\n",
              "      <th>1997 [YR1997]</th>\n",
              "      <th>1998 [YR1998]</th>\n",
              "      <th>1999 [YR1999]</th>\n",
              "      <th>2000 [YR2000]</th>\n",
              "      <th>2001 [YR2001]</th>\n",
              "      <th>2002 [YR2002]</th>\n",
              "      <th>2003 [YR2003]</th>\n",
              "      <th>2004 [YR2004]</th>\n",
              "      <th>2005 [YR2005]</th>\n",
              "      <th>2006 [YR2006]</th>\n",
              "      <th>2007 [YR2007]</th>\n",
              "      <th>Country Name</th>\n",
              "      <th>Series Code</th>\n",
              "      <th>Series Name</th>\n",
              "    </tr>\n",
              "  </thead>\n",
              "  <tbody>\n",
              "    <tr>\n",
              "      <th>0</th>\n",
              "      <td>0</td>\n",
              "      <td>NaN</td>\n",
              "      <td>NaN</td>\n",
              "      <td>NaN</td>\n",
              "      <td>NaN</td>\n",
              "      <td>NaN</td>\n",
              "      <td>NaN</td>\n",
              "      <td>NaN</td>\n",
              "      <td>NaN</td>\n",
              "      <td>NaN</td>\n",
              "      <td>NaN</td>\n",
              "      <td>NaN</td>\n",
              "      <td>NaN</td>\n",
              "      <td>NaN</td>\n",
              "      <td>NaN</td>\n",
              "      <td>NaN</td>\n",
              "      <td>NaN</td>\n",
              "      <td>NaN</td>\n",
              "      <td>NaN</td>\n",
              "      <td>NaN</td>\n",
              "      <td>NaN</td>\n",
              "      <td>NaN</td>\n",
              "      <td>NaN</td>\n",
              "      <td>NaN</td>\n",
              "      <td>NaN</td>\n",
              "      <td>NaN</td>\n",
              "      <td>NaN</td>\n",
              "      <td>NaN</td>\n",
              "      <td>NaN</td>\n",
              "      <td>NaN</td>\n",
              "      <td>NaN</td>\n",
              "      <td>NaN</td>\n",
              "      <td>NaN</td>\n",
              "      <td>NaN</td>\n",
              "      <td>NaN</td>\n",
              "      <td>NaN</td>\n",
              "      <td>3.769214</td>\n",
              "      <td>Afghanistan</td>\n",
              "      <td>allsi.bi_q1</td>\n",
              "      <td>(%) Benefits held by 1st 20% population - All ...</td>\n",
              "    </tr>\n",
              "    <tr>\n",
              "      <th>1</th>\n",
              "      <td>1</td>\n",
              "      <td>NaN</td>\n",
              "      <td>NaN</td>\n",
              "      <td>NaN</td>\n",
              "      <td>NaN</td>\n",
              "      <td>NaN</td>\n",
              "      <td>NaN</td>\n",
              "      <td>NaN</td>\n",
              "      <td>NaN</td>\n",
              "      <td>NaN</td>\n",
              "      <td>NaN</td>\n",
              "      <td>NaN</td>\n",
              "      <td>NaN</td>\n",
              "      <td>NaN</td>\n",
              "      <td>NaN</td>\n",
              "      <td>NaN</td>\n",
              "      <td>NaN</td>\n",
              "      <td>NaN</td>\n",
              "      <td>NaN</td>\n",
              "      <td>NaN</td>\n",
              "      <td>NaN</td>\n",
              "      <td>NaN</td>\n",
              "      <td>NaN</td>\n",
              "      <td>NaN</td>\n",
              "      <td>NaN</td>\n",
              "      <td>NaN</td>\n",
              "      <td>NaN</td>\n",
              "      <td>NaN</td>\n",
              "      <td>NaN</td>\n",
              "      <td>NaN</td>\n",
              "      <td>NaN</td>\n",
              "      <td>NaN</td>\n",
              "      <td>NaN</td>\n",
              "      <td>NaN</td>\n",
              "      <td>NaN</td>\n",
              "      <td>NaN</td>\n",
              "      <td>7.027746</td>\n",
              "      <td>Afghanistan</td>\n",
              "      <td>allsp.bi_q1</td>\n",
              "      <td>(%) Benefits held by 1st 20% population - All ...</td>\n",
              "    </tr>\n",
              "    <tr>\n",
              "      <th>2</th>\n",
              "      <td>2</td>\n",
              "      <td>NaN</td>\n",
              "      <td>NaN</td>\n",
              "      <td>NaN</td>\n",
              "      <td>NaN</td>\n",
              "      <td>NaN</td>\n",
              "      <td>NaN</td>\n",
              "      <td>NaN</td>\n",
              "      <td>NaN</td>\n",
              "      <td>NaN</td>\n",
              "      <td>NaN</td>\n",
              "      <td>NaN</td>\n",
              "      <td>NaN</td>\n",
              "      <td>NaN</td>\n",
              "      <td>NaN</td>\n",
              "      <td>NaN</td>\n",
              "      <td>NaN</td>\n",
              "      <td>NaN</td>\n",
              "      <td>NaN</td>\n",
              "      <td>NaN</td>\n",
              "      <td>NaN</td>\n",
              "      <td>NaN</td>\n",
              "      <td>NaN</td>\n",
              "      <td>NaN</td>\n",
              "      <td>NaN</td>\n",
              "      <td>NaN</td>\n",
              "      <td>NaN</td>\n",
              "      <td>NaN</td>\n",
              "      <td>NaN</td>\n",
              "      <td>NaN</td>\n",
              "      <td>NaN</td>\n",
              "      <td>NaN</td>\n",
              "      <td>NaN</td>\n",
              "      <td>NaN</td>\n",
              "      <td>NaN</td>\n",
              "      <td>NaN</td>\n",
              "      <td>8.244887</td>\n",
              "      <td>Afghanistan</td>\n",
              "      <td>allsa.bi_q1</td>\n",
              "      <td>(%) Benefits held by 1st 20% population - All ...</td>\n",
              "    </tr>\n",
              "    <tr>\n",
              "      <th>3</th>\n",
              "      <td>4</td>\n",
              "      <td>NaN</td>\n",
              "      <td>NaN</td>\n",
              "      <td>NaN</td>\n",
              "      <td>NaN</td>\n",
              "      <td>NaN</td>\n",
              "      <td>NaN</td>\n",
              "      <td>NaN</td>\n",
              "      <td>NaN</td>\n",
              "      <td>NaN</td>\n",
              "      <td>NaN</td>\n",
              "      <td>NaN</td>\n",
              "      <td>NaN</td>\n",
              "      <td>NaN</td>\n",
              "      <td>NaN</td>\n",
              "      <td>NaN</td>\n",
              "      <td>NaN</td>\n",
              "      <td>NaN</td>\n",
              "      <td>NaN</td>\n",
              "      <td>NaN</td>\n",
              "      <td>NaN</td>\n",
              "      <td>NaN</td>\n",
              "      <td>NaN</td>\n",
              "      <td>NaN</td>\n",
              "      <td>NaN</td>\n",
              "      <td>NaN</td>\n",
              "      <td>NaN</td>\n",
              "      <td>NaN</td>\n",
              "      <td>NaN</td>\n",
              "      <td>NaN</td>\n",
              "      <td>NaN</td>\n",
              "      <td>NaN</td>\n",
              "      <td>NaN</td>\n",
              "      <td>NaN</td>\n",
              "      <td>NaN</td>\n",
              "      <td>NaN</td>\n",
              "      <td>12.933105</td>\n",
              "      <td>Afghanistan</td>\n",
              "      <td>allsi.gen_pop</td>\n",
              "      <td>(%) Generosity of All Social Insurance</td>\n",
              "    </tr>\n",
              "    <tr>\n",
              "      <th>4</th>\n",
              "      <td>5</td>\n",
              "      <td>NaN</td>\n",
              "      <td>NaN</td>\n",
              "      <td>NaN</td>\n",
              "      <td>NaN</td>\n",
              "      <td>NaN</td>\n",
              "      <td>NaN</td>\n",
              "      <td>NaN</td>\n",
              "      <td>NaN</td>\n",
              "      <td>NaN</td>\n",
              "      <td>NaN</td>\n",
              "      <td>NaN</td>\n",
              "      <td>NaN</td>\n",
              "      <td>NaN</td>\n",
              "      <td>NaN</td>\n",
              "      <td>NaN</td>\n",
              "      <td>NaN</td>\n",
              "      <td>NaN</td>\n",
              "      <td>NaN</td>\n",
              "      <td>NaN</td>\n",
              "      <td>NaN</td>\n",
              "      <td>NaN</td>\n",
              "      <td>NaN</td>\n",
              "      <td>NaN</td>\n",
              "      <td>NaN</td>\n",
              "      <td>NaN</td>\n",
              "      <td>NaN</td>\n",
              "      <td>NaN</td>\n",
              "      <td>NaN</td>\n",
              "      <td>NaN</td>\n",
              "      <td>NaN</td>\n",
              "      <td>NaN</td>\n",
              "      <td>NaN</td>\n",
              "      <td>NaN</td>\n",
              "      <td>NaN</td>\n",
              "      <td>NaN</td>\n",
              "      <td>18.996814</td>\n",
              "      <td>Afghanistan</td>\n",
              "      <td>allsp.gen_pop</td>\n",
              "      <td>(%) Generosity of All Social Protection</td>\n",
              "    </tr>\n",
              "  </tbody>\n",
              "</table>\n",
              "</div>"
            ],
            "text/plain": [
              "   Unnamed: 0  ...                                        Series Name\n",
              "0           0  ...  (%) Benefits held by 1st 20% population - All ...\n",
              "1           1  ...  (%) Benefits held by 1st 20% population - All ...\n",
              "2           2  ...  (%) Benefits held by 1st 20% population - All ...\n",
              "3           4  ...             (%) Generosity of All Social Insurance\n",
              "4           5  ...            (%) Generosity of All Social Protection\n",
              "\n",
              "[5 rows x 40 columns]"
            ]
          },
          "metadata": {
            "tags": []
          },
          "execution_count": 261
        }
      ]
    },
    {
      "cell_type": "code",
      "metadata": {
        "id": "GEVFz1bzgJna",
        "colab_type": "code",
        "colab": {}
      },
      "source": [
        "train['id'] = train['Country Name'] + '||' + train['Series Code']"
      ],
      "execution_count": 0,
      "outputs": []
    },
    {
      "cell_type": "code",
      "metadata": {
        "id": "dxQNAMtPgJuA",
        "colab_type": "code",
        "outputId": "1e02f74f-6365-45b6-e004-7ca06d854a32",
        "colab": {
          "base_uri": "https://localhost:8080/",
          "height": 311
        }
      },
      "source": [
        "train.head(2)"
      ],
      "execution_count": 0,
      "outputs": [
        {
          "output_type": "execute_result",
          "data": {
            "text/html": [
              "<div>\n",
              "<style scoped>\n",
              "    .dataframe tbody tr th:only-of-type {\n",
              "        vertical-align: middle;\n",
              "    }\n",
              "\n",
              "    .dataframe tbody tr th {\n",
              "        vertical-align: top;\n",
              "    }\n",
              "\n",
              "    .dataframe thead th {\n",
              "        text-align: right;\n",
              "    }\n",
              "</style>\n",
              "<table border=\"1\" class=\"dataframe\">\n",
              "  <thead>\n",
              "    <tr style=\"text-align: right;\">\n",
              "      <th></th>\n",
              "      <th>Unnamed: 0</th>\n",
              "      <th>1972 [YR1972]</th>\n",
              "      <th>1973 [YR1973]</th>\n",
              "      <th>1974 [YR1974]</th>\n",
              "      <th>1975 [YR1975]</th>\n",
              "      <th>1976 [YR1976]</th>\n",
              "      <th>1977 [YR1977]</th>\n",
              "      <th>1978 [YR1978]</th>\n",
              "      <th>1979 [YR1979]</th>\n",
              "      <th>1980 [YR1980]</th>\n",
              "      <th>1981 [YR1981]</th>\n",
              "      <th>1982 [YR1982]</th>\n",
              "      <th>1983 [YR1983]</th>\n",
              "      <th>1984 [YR1984]</th>\n",
              "      <th>1985 [YR1985]</th>\n",
              "      <th>1986 [YR1986]</th>\n",
              "      <th>1987 [YR1987]</th>\n",
              "      <th>1988 [YR1988]</th>\n",
              "      <th>1989 [YR1989]</th>\n",
              "      <th>1990 [YR1990]</th>\n",
              "      <th>1991 [YR1991]</th>\n",
              "      <th>1992 [YR1992]</th>\n",
              "      <th>1993 [YR1993]</th>\n",
              "      <th>1994 [YR1994]</th>\n",
              "      <th>1995 [YR1995]</th>\n",
              "      <th>1996 [YR1996]</th>\n",
              "      <th>1997 [YR1997]</th>\n",
              "      <th>1998 [YR1998]</th>\n",
              "      <th>1999 [YR1999]</th>\n",
              "      <th>2000 [YR2000]</th>\n",
              "      <th>2001 [YR2001]</th>\n",
              "      <th>2002 [YR2002]</th>\n",
              "      <th>2003 [YR2003]</th>\n",
              "      <th>2004 [YR2004]</th>\n",
              "      <th>2005 [YR2005]</th>\n",
              "      <th>2006 [YR2006]</th>\n",
              "      <th>2007 [YR2007]</th>\n",
              "      <th>Country Name</th>\n",
              "      <th>Series Code</th>\n",
              "      <th>Series Name</th>\n",
              "      <th>id</th>\n",
              "    </tr>\n",
              "  </thead>\n",
              "  <tbody>\n",
              "    <tr>\n",
              "      <th>0</th>\n",
              "      <td>0</td>\n",
              "      <td>NaN</td>\n",
              "      <td>NaN</td>\n",
              "      <td>NaN</td>\n",
              "      <td>NaN</td>\n",
              "      <td>NaN</td>\n",
              "      <td>NaN</td>\n",
              "      <td>NaN</td>\n",
              "      <td>NaN</td>\n",
              "      <td>NaN</td>\n",
              "      <td>NaN</td>\n",
              "      <td>NaN</td>\n",
              "      <td>NaN</td>\n",
              "      <td>NaN</td>\n",
              "      <td>NaN</td>\n",
              "      <td>NaN</td>\n",
              "      <td>NaN</td>\n",
              "      <td>NaN</td>\n",
              "      <td>NaN</td>\n",
              "      <td>NaN</td>\n",
              "      <td>NaN</td>\n",
              "      <td>NaN</td>\n",
              "      <td>NaN</td>\n",
              "      <td>NaN</td>\n",
              "      <td>NaN</td>\n",
              "      <td>NaN</td>\n",
              "      <td>NaN</td>\n",
              "      <td>NaN</td>\n",
              "      <td>NaN</td>\n",
              "      <td>NaN</td>\n",
              "      <td>NaN</td>\n",
              "      <td>NaN</td>\n",
              "      <td>NaN</td>\n",
              "      <td>NaN</td>\n",
              "      <td>NaN</td>\n",
              "      <td>NaN</td>\n",
              "      <td>3.769214</td>\n",
              "      <td>Afghanistan</td>\n",
              "      <td>allsi.bi_q1</td>\n",
              "      <td>(%) Benefits held by 1st 20% population - All ...</td>\n",
              "      <td>Afghanistan||allsi.bi_q1</td>\n",
              "    </tr>\n",
              "    <tr>\n",
              "      <th>1</th>\n",
              "      <td>1</td>\n",
              "      <td>NaN</td>\n",
              "      <td>NaN</td>\n",
              "      <td>NaN</td>\n",
              "      <td>NaN</td>\n",
              "      <td>NaN</td>\n",
              "      <td>NaN</td>\n",
              "      <td>NaN</td>\n",
              "      <td>NaN</td>\n",
              "      <td>NaN</td>\n",
              "      <td>NaN</td>\n",
              "      <td>NaN</td>\n",
              "      <td>NaN</td>\n",
              "      <td>NaN</td>\n",
              "      <td>NaN</td>\n",
              "      <td>NaN</td>\n",
              "      <td>NaN</td>\n",
              "      <td>NaN</td>\n",
              "      <td>NaN</td>\n",
              "      <td>NaN</td>\n",
              "      <td>NaN</td>\n",
              "      <td>NaN</td>\n",
              "      <td>NaN</td>\n",
              "      <td>NaN</td>\n",
              "      <td>NaN</td>\n",
              "      <td>NaN</td>\n",
              "      <td>NaN</td>\n",
              "      <td>NaN</td>\n",
              "      <td>NaN</td>\n",
              "      <td>NaN</td>\n",
              "      <td>NaN</td>\n",
              "      <td>NaN</td>\n",
              "      <td>NaN</td>\n",
              "      <td>NaN</td>\n",
              "      <td>NaN</td>\n",
              "      <td>NaN</td>\n",
              "      <td>7.027746</td>\n",
              "      <td>Afghanistan</td>\n",
              "      <td>allsp.bi_q1</td>\n",
              "      <td>(%) Benefits held by 1st 20% population - All ...</td>\n",
              "      <td>Afghanistan||allsp.bi_q1</td>\n",
              "    </tr>\n",
              "  </tbody>\n",
              "</table>\n",
              "</div>"
            ],
            "text/plain": [
              "   Unnamed: 0  ...                        id\n",
              "0           0  ...  Afghanistan||allsi.bi_q1\n",
              "1           1  ...  Afghanistan||allsp.bi_q1\n",
              "\n",
              "[2 rows x 41 columns]"
            ]
          },
          "metadata": {
            "tags": []
          },
          "execution_count": 263
        }
      ]
    },
    {
      "cell_type": "code",
      "metadata": {
        "id": "Opa3vdwNgJxR",
        "colab_type": "code",
        "colab": {}
      },
      "source": [
        "# submis_df.join(train, on = 'Unnamed: 0', how = 'left')\n",
        "\n",
        "submis_df = pd.merge(left = submis_df, right = train, on = 'Unnamed: 0', how = 'left')[['Unnamed: 0', '2008 [YR2008]', '2012 [YR2012]', 'id']]"
      ],
      "execution_count": 0,
      "outputs": []
    },
    {
      "cell_type": "code",
      "metadata": {
        "id": "6FruCixlhsCi",
        "colab_type": "code",
        "colab": {}
      },
      "source": [
        "submis_rows = submis_df['id'].unique().tolist()"
      ],
      "execution_count": 0,
      "outputs": []
    }
  ]
}